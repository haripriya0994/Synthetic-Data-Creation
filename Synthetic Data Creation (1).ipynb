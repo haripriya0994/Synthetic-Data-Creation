{
 "cells": [
  {
   "cell_type": "code",
   "execution_count": 1,
   "id": "1bfa6b62",
   "metadata": {},
   "outputs": [],
   "source": [
    "import numpy as np\n",
    "import pandas as pd\n",
    "from datetime import datetime, timedelta\n",
    "from dateutil.relativedelta import relativedelta\n",
    "from itertools import cycle"
   ]
  },
  {
   "cell_type": "code",
   "execution_count": 2,
   "id": "8046505a",
   "metadata": {},
   "outputs": [],
   "source": [
    "given_date = datetime(2023, 9, 3) \n",
    "\n",
    "num_days=30\n",
    "dat=[]\n",
    "for _ in range(num_days):\n",
    "    dat.append(given_date.strftime('%d-%m-%Y'))\n",
    "    given_date += timedelta(days=1)\n",
    "    \n",
    "dat\n",
    "\n",
    "dat *=100\n",
    "\n",
    "df = pd.DataFrame({'Date':dat})"
   ]
  },
  {
   "cell_type": "code",
   "execution_count": 3,
   "id": "91ae74fc",
   "metadata": {
    "scrolled": true
   },
   "outputs": [
    {
     "name": "stdout",
     "output_type": "stream",
     "text": [
      "['campaign_1', 'campaign_2', 'campaign_3', 'campaign_4', 'campaign_5', 'campaign_6', 'campaign_7', 'campaign_8', 'campaign_9', 'campaign_10']\n"
     ]
    }
   ],
   "source": [
    "camp=[]\n",
    "for i in range(1,11):\n",
    "    camp.append('campaign_'+str(i))\n",
    "    \n",
    "print(camp)"
   ]
  },
  {
   "cell_type": "code",
   "execution_count": 4,
   "id": "b834e96d",
   "metadata": {},
   "outputs": [
    {
     "data": {
      "text/plain": [
       "['25-07-2023',\n",
       " '04-08-2023',\n",
       " '14-08-2023',\n",
       " '24-08-2023',\n",
       " '03-09-2023',\n",
       " '13-09-2023',\n",
       " '23-09-2023',\n",
       " '03-10-2023',\n",
       " '13-10-2023',\n",
       " '23-10-2023']"
      ]
     },
     "execution_count": 4,
     "metadata": {},
     "output_type": "execute_result"
    }
   ],
   "source": [
    "from datetime import datetime, timedelta\n",
    "\n",
    "given_date = datetime(2023, 7, 25)\n",
    "num_days = 10\n",
    "dat1 = []\n",
    "\n",
    "for _ in range(num_days):\n",
    "    dat1.append(given_date.strftime('%d-%m-%Y'))\n",
    "    given_date += timedelta(days=10)\n",
    "dat1"
   ]
  },
  {
   "cell_type": "code",
   "execution_count": 5,
   "id": "c38fe5bf",
   "metadata": {
    "scrolled": true
   },
   "outputs": [
    {
     "data": {
      "text/plain": [
       "['09-08-2023',\n",
       " '24-08-2023',\n",
       " '08-09-2023',\n",
       " '08-09-2023',\n",
       " '23-09-2023',\n",
       " '08-10-2023',\n",
       " '08-10-2023',\n",
       " '23-10-2023',\n",
       " '07-11-2023',\n",
       " '07-11-2023']"
      ]
     },
     "execution_count": 5,
     "metadata": {},
     "output_type": "execute_result"
    }
   ],
   "source": [
    "Duration = [15,20,25]\n",
    "end_dates=[]\n",
    "dur_cycle=cycle(Duration)\n",
    "for i in dat1:\n",
    "    duration = next(dur_cycle)\n",
    "    start_date = datetime.strptime(i, '%d-%m-%Y')\n",
    "    end_date = start_date + timedelta(days=duration)\n",
    "    end = end_date.strftime('%d-%m-%Y')\n",
    "    end_dates.append(end)\n",
    "end_dates"
   ]
  },
  {
   "cell_type": "code",
   "execution_count": 6,
   "id": "37ce6b2d",
   "metadata": {
    "scrolled": true
   },
   "outputs": [
    {
     "data": {
      "text/html": [
       "<div>\n",
       "<style scoped>\n",
       "    .dataframe tbody tr th:only-of-type {\n",
       "        vertical-align: middle;\n",
       "    }\n",
       "\n",
       "    .dataframe tbody tr th {\n",
       "        vertical-align: top;\n",
       "    }\n",
       "\n",
       "    .dataframe thead th {\n",
       "        text-align: right;\n",
       "    }\n",
       "</style>\n",
       "<table border=\"1\" class=\"dataframe\">\n",
       "  <thead>\n",
       "    <tr style=\"text-align: right;\">\n",
       "      <th></th>\n",
       "      <th>Date</th>\n",
       "      <th>Campaign</th>\n",
       "      <th>Campaign_Start_Date</th>\n",
       "      <th>Campaign_End_Date</th>\n",
       "    </tr>\n",
       "  </thead>\n",
       "  <tbody>\n",
       "    <tr>\n",
       "      <th>0</th>\n",
       "      <td>03-09-2023</td>\n",
       "      <td>campaign_1</td>\n",
       "      <td>campaign_1</td>\n",
       "      <td>campaign_1</td>\n",
       "    </tr>\n",
       "    <tr>\n",
       "      <th>1</th>\n",
       "      <td>04-09-2023</td>\n",
       "      <td>campaign_2</td>\n",
       "      <td>campaign_2</td>\n",
       "      <td>campaign_2</td>\n",
       "    </tr>\n",
       "    <tr>\n",
       "      <th>2</th>\n",
       "      <td>05-09-2023</td>\n",
       "      <td>campaign_3</td>\n",
       "      <td>campaign_3</td>\n",
       "      <td>campaign_3</td>\n",
       "    </tr>\n",
       "    <tr>\n",
       "      <th>3</th>\n",
       "      <td>06-09-2023</td>\n",
       "      <td>campaign_4</td>\n",
       "      <td>campaign_4</td>\n",
       "      <td>campaign_4</td>\n",
       "    </tr>\n",
       "    <tr>\n",
       "      <th>4</th>\n",
       "      <td>07-09-2023</td>\n",
       "      <td>campaign_5</td>\n",
       "      <td>campaign_5</td>\n",
       "      <td>campaign_5</td>\n",
       "    </tr>\n",
       "    <tr>\n",
       "      <th>...</th>\n",
       "      <td>...</td>\n",
       "      <td>...</td>\n",
       "      <td>...</td>\n",
       "      <td>...</td>\n",
       "    </tr>\n",
       "    <tr>\n",
       "      <th>2995</th>\n",
       "      <td>28-09-2023</td>\n",
       "      <td>campaign_6</td>\n",
       "      <td>campaign_6</td>\n",
       "      <td>campaign_6</td>\n",
       "    </tr>\n",
       "    <tr>\n",
       "      <th>2996</th>\n",
       "      <td>29-09-2023</td>\n",
       "      <td>campaign_7</td>\n",
       "      <td>campaign_7</td>\n",
       "      <td>campaign_7</td>\n",
       "    </tr>\n",
       "    <tr>\n",
       "      <th>2997</th>\n",
       "      <td>30-09-2023</td>\n",
       "      <td>campaign_8</td>\n",
       "      <td>campaign_8</td>\n",
       "      <td>campaign_8</td>\n",
       "    </tr>\n",
       "    <tr>\n",
       "      <th>2998</th>\n",
       "      <td>01-10-2023</td>\n",
       "      <td>campaign_9</td>\n",
       "      <td>campaign_9</td>\n",
       "      <td>campaign_9</td>\n",
       "    </tr>\n",
       "    <tr>\n",
       "      <th>2999</th>\n",
       "      <td>02-10-2023</td>\n",
       "      <td>campaign_10</td>\n",
       "      <td>campaign_10</td>\n",
       "      <td>campaign_10</td>\n",
       "    </tr>\n",
       "  </tbody>\n",
       "</table>\n",
       "<p>3000 rows × 4 columns</p>\n",
       "</div>"
      ],
      "text/plain": [
       "            Date     Campaign Campaign_Start_Date Campaign_End_Date\n",
       "0     03-09-2023   campaign_1          campaign_1        campaign_1\n",
       "1     04-09-2023   campaign_2          campaign_2        campaign_2\n",
       "2     05-09-2023   campaign_3          campaign_3        campaign_3\n",
       "3     06-09-2023   campaign_4          campaign_4        campaign_4\n",
       "4     07-09-2023   campaign_5          campaign_5        campaign_5\n",
       "...          ...          ...                 ...               ...\n",
       "2995  28-09-2023   campaign_6          campaign_6        campaign_6\n",
       "2996  29-09-2023   campaign_7          campaign_7        campaign_7\n",
       "2997  30-09-2023   campaign_8          campaign_8        campaign_8\n",
       "2998  01-10-2023   campaign_9          campaign_9        campaign_9\n",
       "2999  02-10-2023  campaign_10         campaign_10       campaign_10\n",
       "\n",
       "[3000 rows x 4 columns]"
      ]
     },
     "execution_count": 6,
     "metadata": {},
     "output_type": "execute_result"
    }
   ],
   "source": [
    "camp *=300\n",
    "\n",
    "df = pd.DataFrame({'Date':dat,'Campaign':camp,'Campaign_Start_Date':camp,'Campaign_End_Date':camp})\n",
    "df"
   ]
  },
  {
   "cell_type": "code",
   "execution_count": 7,
   "id": "5969dfc6",
   "metadata": {},
   "outputs": [
    {
     "name": "stdout",
     "output_type": "stream",
     "text": [
      "{'campaign_1': '25-07-2023', 'campaign_2': '04-08-2023', 'campaign_3': '14-08-2023', 'campaign_4': '24-08-2023', 'campaign_5': '03-09-2023', 'campaign_6': '13-09-2023', 'campaign_7': '23-09-2023', 'campaign_8': '03-10-2023', 'campaign_9': '13-10-2023', 'campaign_10': '23-10-2023'}\n",
      "{'campaign_1': '09-08-2023', 'campaign_2': '24-08-2023', 'campaign_3': '08-09-2023', 'campaign_4': '08-09-2023', 'campaign_5': '23-09-2023', 'campaign_6': '08-10-2023', 'campaign_7': '08-10-2023', 'campaign_8': '23-10-2023', 'campaign_9': '07-11-2023', 'campaign_10': '07-11-2023'}\n"
     ]
    }
   ],
   "source": [
    "l=['campaign_1', 'campaign_2', 'campaign_3', 'campaign_4', \n",
    "   'campaign_5', 'campaign_6', 'campaign_7', 'campaign_8', 'campaign_9', 'campaign_10']\n",
    "\n",
    "m = ['25-07-2023',\n",
    " '04-08-2023',\n",
    " '14-08-2023',\n",
    " '24-08-2023',\n",
    " '03-09-2023',\n",
    " '13-09-2023',\n",
    " '23-09-2023',\n",
    " '03-10-2023',\n",
    " '13-10-2023',\n",
    " '23-10-2023']\n",
    "\n",
    "n = ['09-08-2023',\n",
    " '24-08-2023',\n",
    " '08-09-2023',\n",
    " '08-09-2023',\n",
    " '23-09-2023',\n",
    " '08-10-2023',\n",
    " '08-10-2023',\n",
    " '23-10-2023',\n",
    " '07-11-2023',\n",
    " '07-11-2023']\n",
    "\n",
    "camp_dict = {i:j for i,j in zip(l,m)}\n",
    "\n",
    "date_dict = {p:q for p,q in zip(l,n)}\n",
    "\n",
    "print(camp_dict)\n",
    "print(date_dict)\n",
    "\n",
    "df['Campaign_Start_Date'] = df['Campaign_Start_Date'].replace(camp_dict)\n",
    "\n",
    "df['Campaign_End_Date'] = df['Campaign_End_Date'].replace(date_dict)\n"
   ]
  },
  {
   "cell_type": "code",
   "execution_count": 8,
   "id": "2ddf26e9",
   "metadata": {},
   "outputs": [],
   "source": [
    "df['Date'] = pd.to_datetime(df['Date'], format='%d-%m-%Y')\n",
    "df['Campaign_Start_Date'] = pd.to_datetime(df['Campaign_Start_Date'], format='%d-%m-%Y')\n",
    "df['Campaign_End_Date'] = pd.to_datetime(df['Campaign_End_Date'], format='%d-%m-%Y')"
   ]
  },
  {
   "cell_type": "code",
   "execution_count": 9,
   "id": "8f2dd538",
   "metadata": {},
   "outputs": [],
   "source": [
    "df['remaining'] = (df['Campaign_End_Date']-df['Date']).dt.days"
   ]
  },
  {
   "cell_type": "code",
   "execution_count": 10,
   "id": "989d98eb",
   "metadata": {},
   "outputs": [
    {
     "data": {
      "text/plain": [
       "0      -25\n",
       "1      -11\n",
       "2        3\n",
       "3        2\n",
       "4       16\n",
       "        ..\n",
       "2995    10\n",
       "2996     9\n",
       "2997    23\n",
       "2998    37\n",
       "2999    36\n",
       "Name: remaining, Length: 3000, dtype: int64"
      ]
     },
     "execution_count": 10,
     "metadata": {},
     "output_type": "execute_result"
    }
   ],
   "source": [
    "df['remaining'] "
   ]
  },
  {
   "cell_type": "code",
   "execution_count": null,
   "id": "10b4c1ec",
   "metadata": {},
   "outputs": [],
   "source": []
  },
  {
   "cell_type": "code",
   "execution_count": 11,
   "id": "d9137383",
   "metadata": {},
   "outputs": [
    {
     "data": {
      "text/plain": [
       "0       Completed\n",
       "1       Completed\n",
       "2          Active\n",
       "3          Active\n",
       "4          Active\n",
       "          ...    \n",
       "2995       Active\n",
       "2996       Active\n",
       "2997       Active\n",
       "2998       Active\n",
       "2999       Active\n",
       "Name: Campaign_Status, Length: 3000, dtype: object"
      ]
     },
     "execution_count": 11,
     "metadata": {},
     "output_type": "execute_result"
    }
   ],
   "source": [
    "def status(x):\n",
    "    if x<0:\n",
    "        return \"Completed\"\n",
    "    else:\n",
    "        return \"Active\"\n",
    "    \n",
    "\n",
    "df['Campaign_Status'] = df['remaining'].apply(status)    \n",
    "df['Campaign_Status']"
   ]
  },
  {
   "cell_type": "code",
   "execution_count": 12,
   "id": "ed1febfa",
   "metadata": {},
   "outputs": [
    {
     "data": {
      "text/html": [
       "<div>\n",
       "<style scoped>\n",
       "    .dataframe tbody tr th:only-of-type {\n",
       "        vertical-align: middle;\n",
       "    }\n",
       "\n",
       "    .dataframe tbody tr th {\n",
       "        vertical-align: top;\n",
       "    }\n",
       "\n",
       "    .dataframe thead th {\n",
       "        text-align: right;\n",
       "    }\n",
       "</style>\n",
       "<table border=\"1\" class=\"dataframe\">\n",
       "  <thead>\n",
       "    <tr style=\"text-align: right;\">\n",
       "      <th></th>\n",
       "      <th>Date</th>\n",
       "      <th>Campaign</th>\n",
       "      <th>Campaign_Start_Date</th>\n",
       "      <th>Campaign_End_Date</th>\n",
       "      <th>remaining</th>\n",
       "      <th>Campaign_Status</th>\n",
       "    </tr>\n",
       "  </thead>\n",
       "  <tbody>\n",
       "    <tr>\n",
       "      <th>0</th>\n",
       "      <td>2023-09-03</td>\n",
       "      <td>campaign_1</td>\n",
       "      <td>2023-07-25</td>\n",
       "      <td>2023-08-09</td>\n",
       "      <td>-25</td>\n",
       "      <td>Completed</td>\n",
       "    </tr>\n",
       "    <tr>\n",
       "      <th>1</th>\n",
       "      <td>2023-09-04</td>\n",
       "      <td>campaign_2</td>\n",
       "      <td>2023-08-04</td>\n",
       "      <td>2023-08-24</td>\n",
       "      <td>-11</td>\n",
       "      <td>Completed</td>\n",
       "    </tr>\n",
       "    <tr>\n",
       "      <th>2</th>\n",
       "      <td>2023-09-05</td>\n",
       "      <td>campaign_3</td>\n",
       "      <td>2023-08-14</td>\n",
       "      <td>2023-09-08</td>\n",
       "      <td>3</td>\n",
       "      <td>Active</td>\n",
       "    </tr>\n",
       "    <tr>\n",
       "      <th>3</th>\n",
       "      <td>2023-09-06</td>\n",
       "      <td>campaign_4</td>\n",
       "      <td>2023-08-24</td>\n",
       "      <td>2023-09-08</td>\n",
       "      <td>2</td>\n",
       "      <td>Active</td>\n",
       "    </tr>\n",
       "    <tr>\n",
       "      <th>4</th>\n",
       "      <td>2023-09-07</td>\n",
       "      <td>campaign_5</td>\n",
       "      <td>2023-09-03</td>\n",
       "      <td>2023-09-23</td>\n",
       "      <td>16</td>\n",
       "      <td>Active</td>\n",
       "    </tr>\n",
       "    <tr>\n",
       "      <th>...</th>\n",
       "      <td>...</td>\n",
       "      <td>...</td>\n",
       "      <td>...</td>\n",
       "      <td>...</td>\n",
       "      <td>...</td>\n",
       "      <td>...</td>\n",
       "    </tr>\n",
       "    <tr>\n",
       "      <th>2995</th>\n",
       "      <td>2023-09-28</td>\n",
       "      <td>campaign_6</td>\n",
       "      <td>2023-09-13</td>\n",
       "      <td>2023-10-08</td>\n",
       "      <td>10</td>\n",
       "      <td>Active</td>\n",
       "    </tr>\n",
       "    <tr>\n",
       "      <th>2996</th>\n",
       "      <td>2023-09-29</td>\n",
       "      <td>campaign_7</td>\n",
       "      <td>2023-09-23</td>\n",
       "      <td>2023-10-08</td>\n",
       "      <td>9</td>\n",
       "      <td>Active</td>\n",
       "    </tr>\n",
       "    <tr>\n",
       "      <th>2997</th>\n",
       "      <td>2023-09-30</td>\n",
       "      <td>campaign_8</td>\n",
       "      <td>2023-10-03</td>\n",
       "      <td>2023-10-23</td>\n",
       "      <td>23</td>\n",
       "      <td>Active</td>\n",
       "    </tr>\n",
       "    <tr>\n",
       "      <th>2998</th>\n",
       "      <td>2023-10-01</td>\n",
       "      <td>campaign_9</td>\n",
       "      <td>2023-10-13</td>\n",
       "      <td>2023-11-07</td>\n",
       "      <td>37</td>\n",
       "      <td>Active</td>\n",
       "    </tr>\n",
       "    <tr>\n",
       "      <th>2999</th>\n",
       "      <td>2023-10-02</td>\n",
       "      <td>campaign_10</td>\n",
       "      <td>2023-10-23</td>\n",
       "      <td>2023-11-07</td>\n",
       "      <td>36</td>\n",
       "      <td>Active</td>\n",
       "    </tr>\n",
       "  </tbody>\n",
       "</table>\n",
       "<p>3000 rows × 6 columns</p>\n",
       "</div>"
      ],
      "text/plain": [
       "           Date     Campaign Campaign_Start_Date Campaign_End_Date  remaining  \\\n",
       "0    2023-09-03   campaign_1          2023-07-25        2023-08-09        -25   \n",
       "1    2023-09-04   campaign_2          2023-08-04        2023-08-24        -11   \n",
       "2    2023-09-05   campaign_3          2023-08-14        2023-09-08          3   \n",
       "3    2023-09-06   campaign_4          2023-08-24        2023-09-08          2   \n",
       "4    2023-09-07   campaign_5          2023-09-03        2023-09-23         16   \n",
       "...         ...          ...                 ...               ...        ...   \n",
       "2995 2023-09-28   campaign_6          2023-09-13        2023-10-08         10   \n",
       "2996 2023-09-29   campaign_7          2023-09-23        2023-10-08          9   \n",
       "2997 2023-09-30   campaign_8          2023-10-03        2023-10-23         23   \n",
       "2998 2023-10-01   campaign_9          2023-10-13        2023-11-07         37   \n",
       "2999 2023-10-02  campaign_10          2023-10-23        2023-11-07         36   \n",
       "\n",
       "     Campaign_Status  \n",
       "0          Completed  \n",
       "1          Completed  \n",
       "2             Active  \n",
       "3             Active  \n",
       "4             Active  \n",
       "...              ...  \n",
       "2995          Active  \n",
       "2996          Active  \n",
       "2997          Active  \n",
       "2998          Active  \n",
       "2999          Active  \n",
       "\n",
       "[3000 rows x 6 columns]"
      ]
     },
     "execution_count": 12,
     "metadata": {},
     "output_type": "execute_result"
    }
   ],
   "source": [
    "df"
   ]
  }
 ],
 "metadata": {
  "kernelspec": {
   "display_name": "Python 3 (ipykernel)",
   "language": "python",
   "name": "python3"
  },
  "language_info": {
   "codemirror_mode": {
    "name": "ipython",
    "version": 3
   },
   "file_extension": ".py",
   "mimetype": "text/x-python",
   "name": "python",
   "nbconvert_exporter": "python",
   "pygments_lexer": "ipython3",
   "version": "3.11.3"
  }
 },
 "nbformat": 4,
 "nbformat_minor": 5
}
